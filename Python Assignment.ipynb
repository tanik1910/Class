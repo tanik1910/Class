{
 "cells": [
  {
   "cell_type": "raw",
   "id": "19629ee7-e054-463a-a79f-cffc0007be4d",
   "metadata": {},
   "source": [
    "1. What is python, and why it is popular?\n",
    " > Python is a high level programming langauge.\n",
    "   >> Easy to learn.\n",
    "   >> Widely used in the industry.\n",
    "   >> paython has lot of libraries.\n",
    "   >> huge active community."
   ]
  },
  {
   "cell_type": "raw",
   "id": "3ac8248f-b27e-4253-9ea3-23727bd7a892",
   "metadata": {},
   "source": [
    "2. What is an interpreter in python?\n",
    " > "
   ]
  },
  {
   "cell_type": "raw",
   "id": "29a16f63-38c2-4b13-98b3-1bf4c1a72cbe",
   "metadata": {},
   "source": [
    "3. What are pre-defined keywords in python?\n",
    " > Predefine words that hold a special meaning and have specific purpose in python programing."
   ]
  },
  {
   "cell_type": "raw",
   "id": "921a2ea9-5b68-41cb-aaf2-061102696119",
   "metadata": {},
   "source": [
    "4. Can keyword be used as variable names?\n",
    " > No, keywords cannot be used as variable names in python."
   ]
  },
  {
   "cell_type": "raw",
   "id": "ebb65b46-0ee9-4831-b986-a53ea7e1bc6b",
   "metadata": {},
   "source": [
    "5. what is mutability in python?\n",
    " > Objects or containers whose state or value can be changed after they are created are called mutability."
   ]
  },
  {
   "cell_type": "raw",
   "id": "0013dac6-9bed-4441-9487-ddcbbe6a9893",
   "metadata": {},
   "source": [
    "6. Why are lists mutable, but tuples are immutable?\n",
    " >"
   ]
  },
  {
   "cell_type": "raw",
   "id": "a6801cce-7387-4e1e-80eb-cac475a07716",
   "metadata": {},
   "source": [
    "7.  What is the difference between “==” and “is” operators in Python?\n",
    " > \"==\" compare two value\n",
    " > \"is\" compares the location of two object or variable."
   ]
  },
  {
   "cell_type": "raw",
   "id": "d947bf6f-9593-4ddd-865c-8447da6dcbd6",
   "metadata": {},
   "source": [
    "8. What are logical operators in Python?\n",
    " > Logical operators are used to combine or compare boolean expressions and return a boolean result."
   ]
  },
  {
   "cell_type": "raw",
   "id": "501aa499-bbe5-4906-b74c-481231bc22c6",
   "metadata": {},
   "source": [
    "9. What is type casting in Python?\n",
    " > the process of changing the data type of a value/object."
   ]
  },
  {
   "cell_type": "raw",
   "id": "8e980811-58b6-435a-b6a9-665eb0cb5df8",
   "metadata": {},
   "source": [
    "10. What is the difference between implicit and explicit type casting?\n",
    "  >  "
   ]
  },
  {
   "cell_type": "raw",
   "id": "8a5560fa-803d-4073-8102-9597b8596271",
   "metadata": {},
   "source": [
    "11. What is the purpose of conditional statements in Python \n",
    "  > the purpose of conditional statement in python is allow the program to make decision and execute different blocks of code based on specific conditions."
   ]
  },
  {
   "cell_type": "raw",
   "id": "8044af2b-c7d2-48c6-b089-5380330f4f05",
   "metadata": {},
   "source": [
    "12. How does the elif statement work? \n",
    "  > * Python check first \"if\" condition.\n",
    "    * If it's true, it ececutes that block and skip the rest.\n",
    "    * if it's false, it checks the elif comditions.\n",
    "    * Multiple elif blocks.\n",
    "    * If none of the if or elife conditions are true the else block is executed."
   ]
  },
  {
   "cell_type": "raw",
   "id": "63eca026-1f29-42af-b8e9-4275da34aa38",
   "metadata": {},
   "source": [
    "13. What is the difference between for and while loops?\n",
    "  >"
   ]
  },
  {
   "cell_type": "raw",
   "id": "4dadbc7e-c594-4b80-b69e-4fd8fde36297",
   "metadata": {},
   "source": [
    "14. Describe a scenario where a while loop is more suitable than a for loop?\n",
    "  > "
   ]
  },
  {
   "cell_type": "raw",
   "id": "218c16ef-277e-4872-af89-fea2f557eb54",
   "metadata": {},
   "source": [
    "<<<<<<<<<<<<<<<<<<<<Practical Questions>>>>>>>>>>>>>>>>>>"
   ]
  },
  {
   "cell_type": "code",
   "execution_count": 5,
   "id": "f2f31564-ae1a-486d-b515-7f7668a30a8a",
   "metadata": {},
   "outputs": [
    {
     "name": "stdout",
     "output_type": "stream",
     "text": [
      "Hello World!\n"
     ]
    }
   ],
   "source": [
    "#1.Write a Python program to print \"Hello, World!\"\n",
    "print(\"Hello World!\")"
   ]
  },
  {
   "cell_type": "code",
   "execution_count": 6,
   "id": "e259a550-23bd-4a19-a6ff-d6cf747f4a8e",
   "metadata": {},
   "outputs": [
    {
     "name": "stdout",
     "output_type": "stream",
     "text": [
      "Tanik\n",
      "23\n"
     ]
    }
   ],
   "source": [
    "#2.Write a Python program that displays your name and age.\n",
    "Name=print(\"Tanik\")\n",
    "Age=print(\"23\")"
   ]
  },
  {
   "cell_type": "code",
   "execution_count": 7,
   "id": "13365d1e-3a6b-4ebe-af64-d88c4383904c",
   "metadata": {},
   "outputs": [
    {
     "name": "stdout",
     "output_type": "stream",
     "text": [
      "\n",
      "Here is a list of the Python keywords.  Enter any keyword to get more help.\n",
      "\n",
      "False               class               from                or\n",
      "None                continue            global              pass\n",
      "True                def                 if                  raise\n",
      "and                 del                 import              return\n",
      "as                  elif                in                  try\n",
      "assert              else                is                  while\n",
      "async               except              lambda              with\n",
      "await               finally             nonlocal            yield\n",
      "break               for                 not                 \n",
      "\n"
     ]
    }
   ],
   "source": [
    "#3.Write code to print all the pre-defined keywords in Python using the keyword library.\n",
    "help('keywords')"
   ]
  },
  {
   "cell_type": "code",
   "execution_count": 10,
   "id": "7754beb7-765b-44c0-b830-5ddd222ab825",
   "metadata": {},
   "outputs": [
    {
     "name": "stdout",
     "output_type": "stream",
     "text": [
      "t\n"
     ]
    }
   ],
   "source": [
    "#4.Write a program that checks if a given word is a Python keyword.\n",
    "name = (\"Python keyword\")\n",
    "if name == \"Python keyword\":\n",
    "    print('t')\n",
    "else:\n",
    "    print('f')"
   ]
  },
  {
   "cell_type": "code",
   "execution_count": 11,
   "id": "256d951b-d253-4325-8924-f698f01c778a",
   "metadata": {},
   "outputs": [
    {
     "name": "stdout",
     "output_type": "stream",
     "text": [
      "List: [100, 2, 3]\n"
     ]
    }
   ],
   "source": [
    "#5.Create a list and tuple in Python, and demonstrate how attempting to change an element works differently\n",
    "#for each.\n",
    "list = [1, 2, 3]\n",
    "list[0] = 100  \n",
    "print(\"List:\", list)"
   ]
  },
  {
   "cell_type": "code",
   "execution_count": 12,
   "id": "dc14a68e-7d90-4d42-b53b-67b0290f8c52",
   "metadata": {},
   "outputs": [
    {
     "name": "stdout",
     "output_type": "stream",
     "text": [
      "can't change a tuple!\n"
     ]
    }
   ],
   "source": [
    "#tuple\n",
    "tuple = (1, 2, 3)\n",
    "try:\n",
    "    tuple[0] = 100 \n",
    "except TypeError:\n",
    "    print(\"can't change a tuple!\")"
   ]
  },
  {
   "cell_type": "code",
   "execution_count": null,
   "id": "e656154e-09f1-46e4-a2ca-18d3cf463c76",
   "metadata": {},
   "outputs": [],
   "source": [
    "#6.Write a function to demonstrate the behavior of mutable and immutable arguments\n"
   ]
  },
  {
   "cell_type": "code",
   "execution_count": 6,
   "id": "4eabbedc-2853-4dcc-9de2-f07cbff85f41",
   "metadata": {},
   "outputs": [
    {
     "name": "stdin",
     "output_type": "stream",
     "text": [
      "Enter the first number:  4\n",
      "Enter the second number:  4\n"
     ]
    },
    {
     "data": {
      "text/plain": [
       "8.0"
      ]
     },
     "execution_count": 6,
     "metadata": {},
     "output_type": "execute_result"
    }
   ],
   "source": [
    "#7. Write a program that performs basic arithmetic operations on two user-input numbers.\n",
    "#addition\n",
    "num1 = float(input(\"Enter the first number: \"))\n",
    "num2 = float(input(\"Enter the second number: \"))\n",
    "num1+num2"
   ]
  },
  {
   "cell_type": "code",
   "execution_count": 13,
   "id": "6a3c472f-a3c0-4b5e-a0fe-e4788260d7ac",
   "metadata": {},
   "outputs": [
    {
     "name": "stdin",
     "output_type": "stream",
     "text": [
      "Enter the first number:  5\n",
      "Enter the first number:  8\n"
     ]
    },
    {
     "name": "stdout",
     "output_type": "stream",
     "text": [
      "-3.0\n"
     ]
    }
   ],
   "source": [
    "#subtraction\n",
    "num1 = float(input(\"Enter the first number: \"))\n",
    "num2 = float(input(\"Enter the first number: \"))\n",
    "print(num1-num2)"
   ]
  },
  {
   "cell_type": "code",
   "execution_count": 9,
   "id": "4319533d-f424-4170-abc9-e7c9a65e137e",
   "metadata": {},
   "outputs": [
    {
     "name": "stdin",
     "output_type": "stream",
     "text": [
      "Enter the first number 55\n",
      "Enter the first number 41\n"
     ]
    },
    {
     "name": "stdout",
     "output_type": "stream",
     "text": [
      "2255.0\n"
     ]
    }
   ],
   "source": [
    "#multiplication\n",
    "num1 = float(input(\"Enter the first number\"))\n",
    "num2 = float(input(\"Enter the first number\"))\n",
    "print(num1*num2)"
   ]
  },
  {
   "cell_type": "code",
   "execution_count": 8,
   "id": "9c2eca71-0674-4812-8f82-a83660bdd45e",
   "metadata": {},
   "outputs": [
    {
     "name": "stdout",
     "output_type": "stream",
     "text": [
      "True\n"
     ]
    }
   ],
   "source": [
    "#8.Write a program to demonstrate the use of logical operators.\n",
    "a = 10\n",
    "b = 5 \n",
    "print(a > 0 and b > 0)"
   ]
  },
  {
   "cell_type": "code",
   "execution_count": 7,
   "id": "19fc0abf-e7e7-4331-80a6-13bf448350eb",
   "metadata": {},
   "outputs": [
    {
     "data": {
      "text/plain": [
       "int"
      ]
     },
     "execution_count": 7,
     "metadata": {},
     "output_type": "execute_result"
    }
   ],
   "source": [
    "#9.Write a Python program to convert user input from string to integer, float, and boolean types.\n",
    "#string to integer\n",
    "a = \"8\"\n",
    "type(int(a))"
   ]
  },
  {
   "cell_type": "code",
   "execution_count": 8,
   "id": "1d6d00e6-2d15-4533-87c8-e14a921c518c",
   "metadata": {},
   "outputs": [
    {
     "data": {
      "text/plain": [
       "float"
      ]
     },
     "execution_count": 8,
     "metadata": {},
     "output_type": "execute_result"
    }
   ],
   "source": [
    "#string to float\n",
    "a = \"9\"\n",
    "type(float(a))"
   ]
  },
  {
   "cell_type": "code",
   "execution_count": 9,
   "id": "c0b80915-7843-4e70-8cf4-790ec79c3736",
   "metadata": {},
   "outputs": [
    {
     "data": {
      "text/plain": [
       "bool"
      ]
     },
     "execution_count": 9,
     "metadata": {},
     "output_type": "execute_result"
    }
   ],
   "source": [
    "#string to boolem\n",
    "a = \"6\"\n",
    "type(bool(a))"
   ]
  },
  {
   "cell_type": "code",
   "execution_count": null,
   "id": "04960461-a89d-48bb-8dd3-cf879109e291",
   "metadata": {},
   "outputs": [],
   "source": [
    "#10. Write code to demonstrate type casting with list elements.\n",
    "list = (1, 11, 2, tanik, 500)\n"
   ]
  },
  {
   "cell_type": "code",
   "execution_count": 4,
   "id": "cf2e2b51-8de7-4b27-aaf5-f7c85d298400",
   "metadata": {},
   "outputs": [
    {
     "name": "stdin",
     "output_type": "stream",
     "text": [
      "Enter a number 5\n"
     ]
    },
    {
     "name": "stdout",
     "output_type": "stream",
     "text": [
      "the number is zero\n"
     ]
    }
   ],
   "source": [
    "#11. Write a program that checks if a number is positive, negative, or zero.\n",
    "num = float(input(\"Enter a number\"))\n",
    "if num > 5:\n",
    "    print(\"the number is positive\")\n",
    "elif num < 5:\n",
    "    print(\"the number is negative\")\n",
    "else:\n",
    "    print(\"the number is zero\")\n"
   ]
  },
  {
   "cell_type": "code",
   "execution_count": 14,
   "id": "9e86eee1-b556-48d7-b864-ffb0483028f5",
   "metadata": {},
   "outputs": [
    {
     "name": "stdout",
     "output_type": "stream",
     "text": [
      "1\n",
      "2\n",
      "3\n",
      "4\n",
      "5\n",
      "6\n",
      "7\n",
      "8\n",
      "9\n",
      "10\n"
     ]
    }
   ],
   "source": [
    "#12. Write a for loop to print number from 1 to 10.\n",
    "for i in range(1, 11):\n",
    "    print(i)"
   ]
  },
  {
   "cell_type": "code",
   "execution_count": 20,
   "id": "79f49ede-c17a-4dc3-a064-4493b276b983",
   "metadata": {},
   "outputs": [
    {
     "name": "stdout",
     "output_type": "stream",
     "text": [
      "2\n",
      "6\n",
      "12\n",
      "20\n",
      "30\n",
      "42\n",
      "56\n",
      "72\n",
      "90\n",
      "110\n",
      "132\n",
      "156\n",
      "182\n",
      "210\n",
      "240\n",
      "272\n",
      "306\n",
      "342\n",
      "380\n",
      "420\n",
      "462\n",
      "506\n",
      "552\n",
      "600\n",
      "650\n"
     ]
    }
   ],
   "source": [
    "#13. write a python program to find the sum of all even numbers between 1 and 50.\n",
    "even_num = 0\n",
    "for i in range(1, 51):\n",
    "    if i % 2 == 0:\n",
    "        even_num += i\n",
    "        print(even_num)"
   ]
  },
  {
   "cell_type": "code",
   "execution_count": 7,
   "id": "b0c19a66-bffb-48bb-b883-98bdb9318817",
   "metadata": {},
   "outputs": [],
   "source": [
    "#14. Write a program to reverse a string using a while loop."
   ]
  },
  {
   "cell_type": "code",
   "execution_count": null,
   "id": "7b8ab7ce-9e97-4579-91ed-bab61c5c4ce3",
   "metadata": {},
   "outputs": [],
   "source": [
    "#15. write a python program to calculate the factorial of a number provided by the user a while loop."
   ]
  }
 ],
 "metadata": {
  "kernelspec": {
   "display_name": "Python 3 (ipykernel)",
   "language": "python",
   "name": "python3"
  },
  "language_info": {
   "codemirror_mode": {
    "name": "ipython",
    "version": 3
   },
   "file_extension": ".py",
   "mimetype": "text/x-python",
   "name": "python",
   "nbconvert_exporter": "python",
   "pygments_lexer": "ipython3",
   "version": "3.13.5"
  }
 },
 "nbformat": 4,
 "nbformat_minor": 5
}
